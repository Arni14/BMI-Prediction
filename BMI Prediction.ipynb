{
 "cells": [
  {
   "cell_type": "code",
   "execution_count": 332,
   "metadata": {
    "collapsed": false
   },
   "outputs": [],
   "source": [
    "import torch \n",
    "from torch import nn\n",
    "import numpy as np\n",
    "import pandas as pd\n",
    "import matplotlib.pyplot as plt\n",
    "import seaborn as sns\n",
    "import requests, re\n",
    "\n",
    "%matplotlib inline"
   ]
  },
  {
   "cell_type": "code",
   "execution_count": 333,
   "metadata": {
    "collapsed": true
   },
   "outputs": [],
   "source": [
    "import praw\n",
    "\n",
    "user_agent = \"Scraper 1.0 by /u/arnavg13\"\n",
    "reddit = praw.Reddit(\n",
    "    client_id = \"i69a55gneYS1cazqZCBE1g\", \n",
    "    client_secret = \"kxUTufTD_13UMTooaGidM3uNDAg7_A\",\n",
    "    user_agent = user_agent\n",
    ")"
   ]
  },
  {
   "cell_type": "code",
   "execution_count": null,
   "metadata": {
    "collapsed": false
   },
   "outputs": [],
   "source": [
    "subreddit = reddit.subreddit(\"progresspics\")\n",
    "posts = subreddit.hot(limit = 500) \n",
    "file_names, raw_labels, metadata = [], [], []\n",
    "for i, post in enumerate(posts):\n",
    "    url = post.url\n",
    "    file_name = url.split(\"/\")\n",
    "    if not len(file_name):\n",
    "        file_name = re.findall(\"/(.*?)\", url)\n",
    "    file_name = file_name[-1]\n",
    "    if \".\" not in file_name:\n",
    "        continue\n",
    "    r = requests.get(url)\n",
    "    with open(\"images/_\" + str(i) + \".jpg\", \"wb\") as f:\n",
    "        f.write(r.content)\n",
    "    file_names.append(file_name)\n",
    "    raw_labels.append(post.title)\n",
    "    metadata.append(post.link_flair_text)"
   ]
  },
  {
   "cell_type": "markdown",
   "metadata": {},
   "source": [
    "Our first task is to get the exact heights from each person's annotations on the subreddit. We do this in an automated fashion for every example using the get_height function below. "
   ]
  },
  {
   "cell_type": "code",
   "execution_count": 219,
   "metadata": {
    "collapsed": true
   },
   "outputs": [],
   "source": [
    "def get_height(i, raw_labels, metadata):\n",
    "    \"\"\"\n",
    "    Using both the annotations and the flair text, we gather enough information to access \n",
    "    the exact height of each individual in inches. If there is no valid information in either\n",
    "    datum, we will return None to indicate that this datapoint is not useful and needs to be removed. \n",
    "    \"\"\"\n",
    "    label = raw_labels[i]\n",
    "    flair_text = metadata[i]\n",
    "    if flair_text and flair_text != 'n/a':\n",
    "        curr = flair_text.split()[1]\n",
    "        H_feet = curr.split(\"'\")[0]\n",
    "        H_inch = curr.split(\"'\")[1].split(\"”\")[0]\n",
    "        height = int(H_feet) * 12 + int(H_inch)\n",
    "    else:\n",
    "        curr = label.split()[0].split(\"/\")[2]\n",
    "        # Figure out the number of feet\n",
    "        if '’' in curr:\n",
    "            cand_feet = curr.split(\"’\")[0]\n",
    "            if '\"' in cand_feet or '’' in cand_feet or '”' in cand_feet or \"“\" in cand_feet:\n",
    "                return None\n",
    "            if 'ft' in cand_feet:\n",
    "                return None\n",
    "            # Consider the case where we get cm instead -- we don't want this. \n",
    "            if int(cand_feet) > 7:\n",
    "                return None\n",
    "            feet = cand_feet\n",
    "            if len(curr.split(\"’\")) == 1:\n",
    "                cand_inches = 0\n",
    "            else:\n",
    "                if curr.split(\"’\")[1] == '':\n",
    "                    cand_inches = 0\n",
    "                elif \"”\" not in curr.split(\"’\")[1]:\n",
    "                    cand_inches = curr.split(\"’\")[1][0]\n",
    "                else:\n",
    "                    cand_inches = curr.split(\"’\")[1].split(\"”\")[0]\n",
    "            inches = cand_inches\n",
    "        else:\n",
    "            cand_feet = curr.split(\"'\")[0]\n",
    "            if '\"' in cand_feet or '’' in cand_feet or '”' in cand_feet or \"“\" in cand_feet:\n",
    "                return None\n",
    "            if 'ft' in cand_feet:\n",
    "                return None\n",
    "            # Consider the case where we get cm instead -- we don't want this. \n",
    "            if int(cand_feet) > 7:\n",
    "                return None\n",
    "            feet = cand_feet\n",
    "            if len(curr.split(\"'\")) == 1:\n",
    "                cand_inches = 0\n",
    "            else:\n",
    "                if curr.split(\"'\")[1] == '':\n",
    "                    cand_inches = 0\n",
    "                elif \"”\" not in curr.split(\"'\")[1]:\n",
    "                    cand_inches = curr.split(\"'\")[1][0]\n",
    "                else:\n",
    "                    cand_inches = curr.split(\"'\")[1].split(\"”\")[0]\n",
    "            inches = cand_inches\n",
    "        height = int(feet) * 12 + int(inches)\n",
    "    return height"
   ]
  },
  {
   "cell_type": "markdown",
   "metadata": {},
   "source": [
    "Next, we need to get the weights. Here, there is a bit more difficulty. These weights are the most important labels because height is ignorable, but weight is the most important feature we want to use to determine BMI and even simply predict the weight. As such, every weight is in the format of \"[w1 > w2 = w1 - w2]\" with units and other data in between. However, these labels only have two reallly important parts -- 1) the first weight mentioned and 2) the second weight mentioned. After we get these, we will store a tuple-per-person, now holding all their weights. For now, we will only capture those who have at most two weights. "
   ]
  },
  {
   "cell_type": "code",
   "execution_count": 289,
   "metadata": {
    "collapsed": false
   },
   "outputs": [],
   "source": [
    "def get_weights(i, raw_labels):\n",
    "    label = raw_labels[i]\n",
    "    regex = r\"\\[([^)]+)\\]\"\n",
    "    if '[' not in label and ']' not in label:\n",
    "        return None\n",
    "    if 'KG' in label or \"pounds\" in label:\n",
    "        return None\n",
    "    bracket_content = re.findall(regex, label)[0]\n",
    "    if '[' in bracket_content or ']' in bracket_content or '>' not in bracket_content:\n",
    "        return None\n",
    "    if bracket_content.count(\">\") != 1 or '?' in bracket_content or 'kg' in bracket_content:\n",
    "        return None\n",
    "    if bracket_content.count(\">\") + bracket_content.count(\"<\") >= 2:\n",
    "        return None\n",
    "    if '-' in bracket_content or '–' in bracket_content:\n",
    "        return None\n",
    "    else:\n",
    "        bracket_content = bracket_content.replace(\"lbs\", \"\")\n",
    "        bracket_content = bracket_content.replace(\" \", \"\").replace(\"llb\", \"\")\n",
    "        bracket_content = bracket_content.replace(\"lb\", \"\").replace(\"Ibs\", \"\")\n",
    "        bracket_content = bracket_content.replace(\"lost\", \"\").replace(\"+\", \"\")\n",
    "        bracket_content = bracket_content.replace(\"#\", \"\").replace(\"bs\", \"\")\n",
    "        head, sep, tail = bracket_content.partition(\"=\")\n",
    "        first, second = head.split(\">\")\n",
    "        if float(first) < 100 or len(first) > 3:\n",
    "            return None\n",
    "        else:\n",
    "            first = float(first)\n",
    "        if float(second) < 100 or len(second) > 3:\n",
    "            return None\n",
    "        else:\n",
    "            second = float(second)\n",
    "        return (first, second)"
   ]
  },
  {
   "cell_type": "markdown",
   "metadata": {},
   "source": [
    "The following function is needed for filtration -- if we have a value that is None for either height or weight, we need to get rid of it from our dataset. "
   ]
  },
  {
   "cell_type": "code",
   "execution_count": 304,
   "metadata": {
    "collapsed": true
   },
   "outputs": [],
   "source": [
    "def remove_value(i):\n",
    "    raw_labels.pop(i)\n",
    "    metadata.pop(i)\n",
    "    file_names.pop(i)"
   ]
  },
  {
   "cell_type": "markdown",
   "metadata": {},
   "source": [
    "Finally, let's build up three datastores -- one of the \"heights\", one of the \"first_weight\", and one of the \"second_weight.\" With all three of these, the ith entry corresponds to one individual. "
   ]
  },
  {
   "cell_type": "code",
   "execution_count": 305,
   "metadata": {
    "collapsed": true
   },
   "outputs": [],
   "source": [
    "def height_and_weight_labels():\n",
    "    heights, weights_1, weights_2 = [], [], []\n",
    "    for i in range(len(metadata)):\n",
    "        height, weights = get_height(i, raw_labels, metadata), get_weights(i, raw_labels)\n",
    "        if height and weights:\n",
    "            heights.append(height)\n",
    "            weights_1.append(weights[0])\n",
    "            weights_2.append(weights[1])\n",
    "    return heights, weights_1, weights_2"
   ]
  },
  {
   "cell_type": "code",
   "execution_count": 306,
   "metadata": {
    "collapsed": false
   },
   "outputs": [],
   "source": [
    "heights, weights_1, weights_2 = height_and_weight_labels()"
   ]
  },
  {
   "cell_type": "code",
   "execution_count": 309,
   "metadata": {
    "collapsed": false
   },
   "outputs": [
    {
     "data": {
      "text/plain": [
       "[62, 65, 68, 61, 67, 64, 63, 61, 61, 74]"
      ]
     },
     "execution_count": 309,
     "metadata": {},
     "output_type": "execute_result"
    }
   ],
   "source": [
    "heights[:10]"
   ]
  },
  {
   "cell_type": "code",
   "execution_count": 310,
   "metadata": {
    "collapsed": false
   },
   "outputs": [
    {
     "data": {
      "text/plain": [
       "[210.0, 218.0, 170.0, 158.0, 189.0, 205.0, 210.0, 145.0, 245.0, 280.0]"
      ]
     },
     "execution_count": 310,
     "metadata": {},
     "output_type": "execute_result"
    }
   ],
   "source": [
    "weights_1[:10]"
   ]
  },
  {
   "cell_type": "code",
   "execution_count": 311,
   "metadata": {
    "collapsed": false
   },
   "outputs": [
    {
     "data": {
      "text/plain": [
       "[124.0, 159.0, 142.0, 130.0, 158.0, 164.0, 120.0, 115.0, 155.0, 218.0]"
      ]
     },
     "execution_count": 311,
     "metadata": {},
     "output_type": "execute_result"
    }
   ],
   "source": [
    "weights_2[:10]"
   ]
  },
  {
   "cell_type": "markdown",
   "metadata": {},
   "source": [
    "The more difficult component now is to actually gather the corresponding images. As we know, we already have the weights stored as tuples, but these are naturally more than one. As such, we need to match the tuple element to the corresponding image. Sadly, each image we have collected is just that -- only an image. However, semantically, it contains multiple sub-images. The task we need to figure out is cropping out these subimages and using them individually, per person, and then storing them with their corresponding labels. "
   ]
  },
  {
   "cell_type": "code",
   "execution_count": 322,
   "metadata": {
    "collapsed": false
   },
   "outputs": [],
   "source": [
    "from PIL import Image\n",
    "import glob\n",
    "for filename in glob.glob('images/*.jpg'): #assuming gif\n",
    "    im=Image.open(filename)"
   ]
  },
  {
   "cell_type": "code",
   "execution_count": null,
   "metadata": {
    "collapsed": true
   },
   "outputs": [],
   "source": []
  }
 ],
 "metadata": {
  "kernelspec": {
   "display_name": "Python 3",
   "language": "python",
   "name": "python3"
  },
  "language_info": {
   "codemirror_mode": {
    "name": "ipython",
    "version": 3
   },
   "file_extension": ".py",
   "mimetype": "text/x-python",
   "name": "python",
   "nbconvert_exporter": "python",
   "pygments_lexer": "ipython3",
   "version": "3.8.5"
  }
 },
 "nbformat": 4,
 "nbformat_minor": 0
}
